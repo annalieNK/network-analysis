{
 "cells": [
  {
   "cell_type": "markdown",
   "metadata": {},
   "source": [
    "# Mining Twitter\n",
    "\n",
    "***Source:***\n",
    "https://github.com/ptwobrussell/Mining-the-Social-Web-2nd-Edition/blob/master/ipynb/Chapter%201%20-%20Mining%20Twitter.ipynb"
   ]
  },
  {
   "cell_type": "code",
   "execution_count": 38,
   "metadata": {
    "collapsed": true
   },
   "outputs": [],
   "source": [
    "import numpy as np\n",
    "import json\n",
    "%matplotlib inline\n",
    "import matplotlib.pyplot as plt"
   ]
  },
  {
   "cell_type": "markdown",
   "metadata": {},
   "source": [
    "### Authorizing an application to access Twitter account data"
   ]
  },
  {
   "cell_type": "code",
   "execution_count": 2,
   "metadata": {
    "collapsed": false
   },
   "outputs": [
    {
     "name": "stdout",
     "output_type": "stream",
     "text": [
      "<twitter.api.Twitter object at 0x10957f650>\n"
     ]
    }
   ],
   "source": [
    "import twitter\n",
    "\n",
    "CONSUMER_KEY = 'g9cb75kDz5rGwksO2Zdd2L08g'\n",
    "CONSUMER_SECRET ='TcQTh7GJVqnif2XNGh5oyQLIBkqjyhWJI9schlyZ6Q0O1ZGr7f'\n",
    "OAUTH_TOKEN = '236827879-5eXYWjODo5PdMsRd3yRSQUJTs0PPKcJY3t7GHy0r'\n",
    "OAUTH_TOKEN_SECRET = 'PHgFDuempE9GdW8VUYfcTntakF1xCknILmKAIvcTstoaf'\n",
    "\n",
    "auth = twitter.oauth.OAuth(OAUTH_TOKEN, OAUTH_TOKEN_SECRET,\n",
    "                           CONSUMER_KEY, CONSUMER_SECRET)\n",
    "\n",
    "twitter_api = twitter.Twitter(auth=auth)\n",
    "\n",
    "# Nothing to see by displaying twitter_api except that it's now a\n",
    "# defined variable\n",
    "\n",
    "print twitter_api"
   ]
  },
  {
   "cell_type": "markdown",
   "metadata": {},
   "source": [
    "### Example retrieving trends for 'Where on Earth' ID 1"
   ]
  },
  {
   "cell_type": "code",
   "execution_count": 9,
   "metadata": {
    "collapsed": false
   },
   "outputs": [
    {
     "name": "stdout",
     "output_type": "stream",
     "text": [
      "[{u'created_at': u'2017-12-30T02:10:49Z', u'trends': [{u'url': u'http://twitter.com/search?q=%23Retrospectiva2017', u'query': u'%23Retrospectiva2017', u'tweet_volume': 21928, u'name': u'#Retrospectiva2017', u'promoted_content': None}, {u'url': u'http://twitter.com/search?q=%23%D8%A7%D9%85%D9%86%D9%8A%D8%AA%D9%83_%D8%B3%D9%86%D9%87_2018', u'query': u'%23%D8%A7%D9%85%D9%86%D9%8A%D8%AA%D9%83_%D8%B3%D9%86%D9%87_2018', u'tweet_volume': 54534, u'name': u'#\\u0627\\u0645\\u0646\\u064a\\u062a\\u0643_\\u0633\\u0646\\u0647_2018', u'promoted_content': None}, {u'url': u'http://twitter.com/search?q=%23CottonBowl', u'query': u'%23CottonBowl', u'tweet_volume': 11253, u'name': u'#CottonBowl', u'promoted_content': None}, {u'url': u'http://twitter.com/search?q=%23%D9%84%D9%84%D9%8A%D9%84_%D9%83%D9%84%D9%85%D9%87', u'query': u'%23%D9%84%D9%84%D9%8A%D9%84_%D9%83%D9%84%D9%85%D9%87', u'tweet_volume': 13992, u'name': u'#\\u0644\\u0644\\u064a\\u0644_\\u0643\\u0644\\u0645\\u0647', u'promoted_content': None}, {u'url': u'http://twitter.com/search?q=%23MusicCityBowl', u'query': u'%23MusicCityBowl', u'tweet_volume': 12026, u'name': u'#MusicCityBowl', u'promoted_content': None}, {u'url': u'http://twitter.com/search?q=%22Ohio+State%22', u'query': u'%22Ohio+State%22', u'tweet_volume': 23161, u'name': u'Ohio State', u'promoted_content': None}, {u'url': u'http://twitter.com/search?q=%22Family+Feud%22', u'query': u'%22Family+Feud%22', u'tweet_volume': 41198, u'name': u'Family Feud', u'promoted_content': None}, {u'url': u'http://twitter.com/search?q=%22Hang+the+DJ%22', u'query': u'%22Hang+the+DJ%22', u'tweet_volume': 14790, u'name': u'Hang the DJ', u'promoted_content': None}, {u'url': u'http://twitter.com/search?q=%22Denzel+Ward%22', u'query': u'%22Denzel+Ward%22', u'tweet_volume': None, u'name': u'Denzel Ward', u'promoted_content': None}, {u'url': u'http://twitter.com/search?q=Darnold', u'query': u'Darnold', u'tweet_volume': None, u'name': u'Darnold', u'promoted_content': None}, {u'url': u'http://twitter.com/search?q=%22Long+Beach%22', u'query': u'%22Long+Beach%22', u'tweet_volume': None, u'name': u'Long Beach', u'promoted_content': None}, {u'url': u'http://twitter.com/search?q=%22Sue+Grafton%22', u'query': u'%22Sue+Grafton%22', u'tweet_volume': 20809, u'name': u'Sue Grafton', u'promoted_content': None}, {u'url': u'http://twitter.com/search?q=%22JT+Barrett%22', u'query': u'%22JT+Barrett%22', u'tweet_volume': None, u'name': u'JT Barrett', u'promoted_content': None}, {u'url': u'http://twitter.com/search?q=%22Nick+Bosa%22', u'query': u'%22Nick+Bosa%22', u'tweet_volume': None, u'name': u'Nick Bosa', u'promoted_content': None}, {u'url': u'http://twitter.com/search?q=%22Fernanda+Montenegro%22', u'query': u'%22Fernanda+Montenegro%22', u'tweet_volume': None, u'name': u'Fernanda Montenegro', u'promoted_content': None}, {u'url': u'http://twitter.com/search?q=%E8%A8%AD%E5%96%B6%E5%AE%8C%E4%BA%86', u'query': u'%E8%A8%AD%E5%96%B6%E5%AE%8C%E4%BA%86', u'tweet_volume': 23184, u'name': u'\\u8a2d\\u55b6\\u5b8c\\u4e86', u'promoted_content': None}, {u'url': u'http://twitter.com/search?q=%22Stephen+Johnson%22', u'query': u'%22Stephen+Johnson%22', u'tweet_volume': None, u'name': u'Stephen Johnson', u'promoted_content': None}, {u'url': u'http://twitter.com/search?q=%22SDV+SO+FCS%22', u'query': u'%22SDV+SO+FCS%22', u'tweet_volume': None, u'name': u'SDV SO FCS', u'promoted_content': None}, {u'url': u'http://twitter.com/search?q=%22Karmichael+Hunt%22', u'query': u'%22Karmichael+Hunt%22', u'tweet_volume': None, u'name': u'Karmichael Hunt', u'promoted_content': None}, {u'url': u'http://twitter.com/search?q=%22LOS+XV+DE+MARIO%22', u'query': u'%22LOS+XV+DE+MARIO%22', u'tweet_volume': None, u'name': u'LOS XV DE MARIO', u'promoted_content': None}, {u'url': u'http://twitter.com/search?q=%23ThingsNeverSaidIn2017', u'query': u'%23ThingsNeverSaidIn2017', u'tweet_volume': None, u'name': u'#ThingsNeverSaidIn2017', u'promoted_content': None}, {u'url': u'http://twitter.com/search?q=%23PrimerPlano', u'query': u'%23PrimerPlano', u'tweet_volume': None, u'name': u'#PrimerPlano', u'promoted_content': None}, {u'url': u'http://twitter.com/search?q=%23NewYearsHonours', u'query': u'%23NewYearsHonours', u'tweet_volume': None, u'name': u'#NewYearsHonours', u'promoted_content': None}, {u'url': u'http://twitter.com/search?q=%23ViernesIntratable', u'query': u'%23ViernesIntratable', u'tweet_volume': None, u'name': u'#ViernesIntratable', u'promoted_content': None}, {u'url': u'http://twitter.com/search?q=%23%D8%B4%D9%8A_%D9%8A%D8%AC%D8%B1%D8%AD%D9%83_%D8%A7%D8%B0%D8%A7', u'query': u'%23%D8%B4%D9%8A_%D9%8A%D8%AC%D8%B1%D8%AD%D9%83_%D8%A7%D8%B0%D8%A7', u'tweet_volume': 13780, u'name': u'#\\u0634\\u064a_\\u064a\\u062c\\u0631\\u062d\\u0643_\\u0627\\u0630\\u0627', u'promoted_content': None}, {u'url': u'http://twitter.com/search?q=%23%D8%B3%D9%86%D9%86%D9%82%D9%84_%D8%A7%D9%84%D9%85%D8%B9%D8%B1%D9%83%D9%87_%D8%A7%D9%84%D9%8A_%D8%A7%D9%8A%D8%B1%D8%A7%D9%86', u'query': u'%23%D8%B3%D9%86%D9%86%D9%82%D9%84_%D8%A7%D9%84%D9%85%D8%B9%D8%B1%D9%83%D9%87_%D8%A7%D9%84%D9%8A_%D8%A7%D9%8A%D8%B1%D8%A7%D9%86', u'tweet_volume': 21078, u'name': u'#\\u0633\\u0646\\u0646\\u0642\\u0644_\\u0627\\u0644\\u0645\\u0639\\u0631\\u0643\\u0647_\\u0627\\u0644\\u064a_\\u0627\\u064a\\u0631\\u0627\\u0646', u'promoted_content': None}, {u'url': u'http://twitter.com/search?q=%23UltimoLegendarios', u'query': u'%23UltimoLegendarios', u'tweet_volume': None, u'name': u'#UltimoLegendarios', u'promoted_content': None}, {u'url': u'http://twitter.com/search?q=%23WithoutSarcasmIWould', u'query': u'%23WithoutSarcasmIWould', u'tweet_volume': None, u'name': u'#WithoutSarcasmIWould', u'promoted_content': None}, {u'url': u'http://twitter.com/search?q=%23%D8%A8%D8%AF%D8%A7%D9%8A%D9%87_%D8%A7%D9%84%D8%B3%D9%86%D9%87_%D8%A7%D9%84%D8%AC%D8%AF%D9%8A%D8%AF%D9%87_%D8%A7%D9%82%D9%88%D9%84', u'query': u'%23%D8%A8%D8%AF%D8%A7%D9%8A%D9%87_%D8%A7%D9%84%D8%B3%D9%86%D9%87_%D8%A7%D9%84%D8%AC%D8%AF%D9%8A%D8%AF%D9%87_%D8%A7%D9%82%D9%88%D9%84', u'tweet_volume': None, u'name': u'#\\u0628\\u062f\\u0627\\u064a\\u0647_\\u0627\\u0644\\u0633\\u0646\\u0647_\\u0627\\u0644\\u062c\\u062f\\u064a\\u062f\\u0647_\\u0627\\u0642\\u0648\\u0644', u'promoted_content': None}, {u'url': u'http://twitter.com/search?q=%23ParoNacionalDocenteEnEnero', u'query': u'%23ParoNacionalDocenteEnEnero', u'tweet_volume': None, u'name': u'#ParoNacionalDocenteEnEnero', u'promoted_content': None}, {u'url': u'http://twitter.com/search?q=%23WorldJuniors', u'query': u'%23WorldJuniors', u'tweet_volume': 19043, u'name': u'#WorldJuniors', u'promoted_content': None}, {u'url': u'http://twitter.com/search?q=%23%D8%A7%D9%84%D8%B3%D8%B9%D8%A7%D8%AF%D9%87_%D8%AF%D8%A7%D9%8A%D9%85', u'query': u'%23%D8%A7%D9%84%D8%B3%D8%B9%D8%A7%D8%AF%D9%87_%D8%AF%D8%A7%D9%8A%D9%85', u'tweet_volume': None, u'name': u'#\\u0627\\u0644\\u0633\\u0639\\u0627\\u062f\\u0647_\\u062f\\u0627\\u064a\\u0645', u'promoted_content': None}, {u'url': u'http://twitter.com/search?q=%23MiGeneraci%C3%B3nFueLaDe', u'query': u'%23MiGeneraci%C3%B3nFueLaDe', u'tweet_volume': None, u'name': u'#MiGeneraci\\xf3nFueLaDe', u'promoted_content': None}, {u'url': u'http://twitter.com/search?q=%23ParaEl2018Quiero', u'query': u'%23ParaEl2018Quiero', u'tweet_volume': None, u'name': u'#ParaEl2018Quiero', u'promoted_content': None}, {u'url': u'http://twitter.com/search?q=%23Iranprotests', u'query': u'%23Iranprotests', u'tweet_volume': 22516, u'name': u'#Iranprotests', u'promoted_content': None}, {u'url': u'http://twitter.com/search?q=%23SomosLH', u'query': u'%23SomosLH', u'tweet_volume': 41199, u'name': u'#SomosLH', u'promoted_content': None}, {u'url': u'http://twitter.com/search?q=%23MisPropositos2018', u'query': u'%23MisPropositos2018', u'tweet_volume': None, u'name': u'#MisPropositos2018', u'promoted_content': None}, {u'url': u'http://twitter.com/search?q=%23WizRockets', u'query': u'%23WizRockets', u'tweet_volume': None, u'name': u'#WizRockets', u'promoted_content': None}, {u'url': u'http://twitter.com/search?q=%23RaoulTeQueremos', u'query': u'%23RaoulTeQueremos', u'tweet_volume': None, u'name': u'#RaoulTeQueremos', u'promoted_content': None}, {u'url': u'http://twitter.com/search?q=%23%D9%8A%D8%A7%D8%B3%D8%A7', u'query': u'%23%D9%8A%D8%A7%D8%B3%D8%A7', u'tweet_volume': None, u'name': u'#\\u064a\\u0627\\u0633\\u0627', u'promoted_content': None}, {u'url': u'http://twitter.com/search?q=%23AgradezcoAFreddy', u'query': u'%23AgradezcoAFreddy', u'tweet_volume': None, u'name': u'#AgradezcoAFreddy', u'promoted_content': None}, {u'url': u'http://twitter.com/search?q=%23ConvosWithEmery', u'query': u'%23ConvosWithEmery', u'tweet_volume': None, u'name': u'#ConvosWithEmery', u'promoted_content': None}, {u'url': u'http://twitter.com/search?q=%23OTDirecto30D', u'query': u'%23OTDirecto30D', u'tweet_volume': None, u'name': u'#OTDirecto30D', u'promoted_content': None}, {u'url': u'http://twitter.com/search?q=%23BelkBowl', u'query': u'%23BelkBowl', u'tweet_volume': 11205, u'name': u'#BelkBowl', u'promoted_content': None}, {u'url': u'http://twitter.com/search?q=%23%E5%AF%8C%E5%A3%AB%E5%B1%B1%E5%A5%B3%E5%AD%90%E9%A7%85%E4%BC%9D', u'query': u'%23%E5%AF%8C%E5%A3%AB%E5%B1%B1%E5%A5%B3%E5%AD%90%E9%A7%85%E4%BC%9D', u'tweet_volume': None, u'name': u'#\\u5bcc\\u58eb\\u5c71\\u5973\\u5b50\\u99c5\\u4f1d', u'promoted_content': None}, {u'url': u'http://twitter.com/search?q=%23%D8%B2%D8%AF_%D8%B1%D8%B5%D9%8A%D8%AF%D9%8388', u'query': u'%23%D8%B2%D8%AF_%D8%B1%D8%B5%D9%8A%D8%AF%D9%8388', u'tweet_volume': 112042, u'name': u'#\\u0632\\u062f_\\u0631\\u0635\\u064a\\u062f\\u064388', u'promoted_content': None}, {u'url': u'http://twitter.com/search?q=%23CrotoneNapoli', u'query': u'%23CrotoneNapoli', u'tweet_volume': None, u'name': u'#CrotoneNapoli', u'promoted_content': None}, {u'url': u'http://twitter.com/search?q=%23LuisitoLIVE', u'query': u'%23LuisitoLIVE', u'tweet_volume': None, u'name': u'#LuisitoLIVE', u'promoted_content': None}, {u'url': u'http://twitter.com/search?q=%23EtchevehereAllanado', u'query': u'%23EtchevehereAllanado', u'tweet_volume': None, u'name': u'#EtchevehereAllanado', u'promoted_content': None}, {u'url': u'http://twitter.com/search?q=%23%D8%A7%D9%84%D8%A8%D8%A7%D9%82%D8%A7%D9%8A%D8%A7%D8%AA_%D8%A7%D9%84%D8%B5%D8%A7%D9%84%D8%AD%D8%A7%D8%AA', u'query': u'%23%D8%A7%D9%84%D8%A8%D8%A7%D9%82%D8%A7%D9%8A%D8%A7%D8%AA_%D8%A7%D9%84%D8%B5%D8%A7%D9%84%D8%AD%D8%A7%D8%AA', u'tweet_volume': None, u'name': u'#\\u0627\\u0644\\u0628\\u0627\\u0642\\u0627\\u064a\\u0627\\u062a_\\u0627\\u0644\\u0635\\u0627\\u0644\\u062d\\u0627\\u062a', u'promoted_content': None}], u'as_of': u'2017-12-30T02:16:19Z', u'locations': [{u'woeid': 1, u'name': u'Worldwide'}]}]\n",
      "---\n",
      "[{u'created_at': u'2017-12-30T02:10:49Z', u'trends': [{u'url': u'http://twitter.com/search?q=%23CottonBowl', u'query': u'%23CottonBowl', u'tweet_volume': 11253, u'name': u'#CottonBowl', u'promoted_content': None}, {u'url': u'http://twitter.com/search?q=%23MusicCityBowl', u'query': u'%23MusicCityBowl', u'tweet_volume': 12026, u'name': u'#MusicCityBowl', u'promoted_content': None}, {u'url': u'http://twitter.com/search?q=%22Ohio+State%22', u'query': u'%22Ohio+State%22', u'tweet_volume': 23161, u'name': u'Ohio State', u'promoted_content': None}, {u'url': u'http://twitter.com/search?q=%22Family+Feud%22', u'query': u'%22Family+Feud%22', u'tweet_volume': 41198, u'name': u'Family Feud', u'promoted_content': None}, {u'url': u'http://twitter.com/search?q=%23ThingsNeverSaidIn2017', u'query': u'%23ThingsNeverSaidIn2017', u'tweet_volume': None, u'name': u'#ThingsNeverSaidIn2017', u'promoted_content': None}, {u'url': u'http://twitter.com/search?q=%22Denzel+Ward%22', u'query': u'%22Denzel+Ward%22', u'tweet_volume': None, u'name': u'Denzel Ward', u'promoted_content': None}, {u'url': u'http://twitter.com/search?q=Darnold', u'query': u'Darnold', u'tweet_volume': None, u'name': u'Darnold', u'promoted_content': None}, {u'url': u'http://twitter.com/search?q=%22Nick+Bosa%22', u'query': u'%22Nick+Bosa%22', u'tweet_volume': None, u'name': u'Nick Bosa', u'promoted_content': None}, {u'url': u'http://twitter.com/search?q=%22JT+Barrett%22', u'query': u'%22JT+Barrett%22', u'tweet_volume': None, u'name': u'JT Barrett', u'promoted_content': None}, {u'url': u'http://twitter.com/search?q=%23WithoutSarcasmIWould', u'query': u'%23WithoutSarcasmIWould', u'tweet_volume': None, u'name': u'#WithoutSarcasmIWould', u'promoted_content': None}, {u'url': u'http://twitter.com/search?q=%22Sue+Grafton%22', u'query': u'%22Sue+Grafton%22', u'tweet_volume': 20809, u'name': u'Sue Grafton', u'promoted_content': None}, {u'url': u'http://twitter.com/search?q=%22Stephen+Johnson%22', u'query': u'%22Stephen+Johnson%22', u'tweet_volume': None, u'name': u'Stephen Johnson', u'promoted_content': None}, {u'url': u'http://twitter.com/search?q=%23WizRockets', u'query': u'%23WizRockets', u'tweet_volume': None, u'name': u'#WizRockets', u'promoted_content': None}, {u'url': u'http://twitter.com/search?q=Burnett', u'query': u'Burnett', u'tweet_volume': None, u'name': u'Burnett', u'promoted_content': None}, {u'url': u'http://twitter.com/search?q=%22Uchenna+Nwosu%22', u'query': u'%22Uchenna+Nwosu%22', u'tweet_volume': None, u'name': u'Uchenna Nwosu', u'promoted_content': None}, {u'url': u'http://twitter.com/search?q=Athanasiou', u'query': u'Athanasiou', u'tweet_volume': None, u'name': u'Athanasiou', u'promoted_content': None}, {u'url': u'http://twitter.com/search?q=%22Mark+Stoops%22', u'query': u'%22Mark+Stoops%22', u'tweet_volume': None, u'name': u'Mark Stoops', u'promoted_content': None}, {u'url': u'http://twitter.com/search?q=%22Tyler+Vaughns%22', u'query': u'%22Tyler+Vaughns%22', u'tweet_volume': None, u'name': u'Tyler Vaughns', u'promoted_content': None}, {u'url': u'http://twitter.com/search?q=%22Justin+Jackson%22', u'query': u'%22Justin+Jackson%22', u'tweet_volume': None, u'name': u'Justin Jackson', u'promoted_content': None}, {u'url': u'http://twitter.com/search?q=%22Drake+and+Wayne%22', u'query': u'%22Drake+and+Wayne%22', u'tweet_volume': None, u'name': u'Drake and Wayne', u'promoted_content': None}, {u'url': u'http://twitter.com/search?q=%22Jerian+Grant%22', u'query': u'%22Jerian+Grant%22', u'tweet_volume': None, u'name': u'Jerian Grant', u'promoted_content': None}, {u'url': u'http://twitter.com/search?q=%22Jevon+Carter%22', u'query': u'%22Jevon+Carter%22', u'tweet_volume': None, u'name': u'Jevon Carter', u'promoted_content': None}, {u'url': u'http://twitter.com/search?q=%22Drew+Barker%22', u'query': u'%22Drew+Barker%22', u'tweet_volume': None, u'name': u'Drew Barker', u'promoted_content': None}, {u'url': u'http://twitter.com/search?q=UMBC', u'query': u'UMBC', u'tweet_volume': None, u'name': u'UMBC', u'promoted_content': None}, {u'url': u'http://twitter.com/search?q=%22Hang+the+DJ%22', u'query': u'%22Hang+the+DJ%22', u'tweet_volume': 14790, u'name': u'Hang the DJ', u'promoted_content': None}, {u'url': u'http://twitter.com/search?q=%22Huma+Abedin%22', u'query': u'%22Huma+Abedin%22', u'tweet_volume': 41907, u'name': u'Huma Abedin', u'promoted_content': None}, {u'url': u'http://twitter.com/search?q=%22Zhou+Qi%22', u'query': u'%22Zhou+Qi%22', u'tweet_volume': None, u'name': u'Zhou Qi', u'promoted_content': None}, {u'url': u'http://twitter.com/search?q=%22Jordan+Jones%22', u'query': u'%22Jordan+Jones%22', u'tweet_volume': None, u'name': u'Jordan Jones', u'promoted_content': None}, {u'url': u'http://twitter.com/search?q=Granlund', u'query': u'Granlund', u'tweet_volume': None, u'name': u'Granlund', u'promoted_content': None}, {u'url': u'http://twitter.com/search?q=%22Davante+Adams%22', u'query': u'%22Davante+Adams%22', u'tweet_volume': 11556, u'name': u'Davante Adams', u'promoted_content': None}, {u'url': u'http://twitter.com/search?q=%22Billy+Price%22', u'query': u'%22Billy+Price%22', u'tweet_volume': None, u'name': u'Billy Price', u'promoted_content': None}, {u'url': u'http://twitter.com/search?q=Rinne', u'query': u'Rinne', u'tweet_volume': None, u'name': u'Rinne', u'promoted_content': None}, {u'url': u'http://twitter.com/search?q=%22Josh+Huestis%22', u'query': u'%22Josh+Huestis%22', u'tweet_volume': None, u'name': u'Josh Huestis', u'promoted_content': None}, {u'url': u'http://twitter.com/search?q=%22Fight+On%22', u'query': u'%22Fight+On%22', u'tweet_volume': None, u'name': u'Fight On', u'promoted_content': None}, {u'url': u'http://twitter.com/search?q=%23ConvosWithEmery', u'query': u'%23ConvosWithEmery', u'tweet_volume': None, u'name': u'#ConvosWithEmery', u'promoted_content': None}, {u'url': u'http://twitter.com/search?q=%23WJC2018', u'query': u'%23WJC2018', u'tweet_volume': None, u'name': u'#WJC2018', u'promoted_content': None}, {u'url': u'http://twitter.com/search?q=%23Iranprotests', u'query': u'%23Iranprotests', u'tweet_volume': 22516, u'name': u'#Iranprotests', u'promoted_content': None}, {u'url': u'http://twitter.com/search?q=%23SunBowl', u'query': u'%23SunBowl', u'tweet_volume': None, u'name': u'#SunBowl', u'promoted_content': None}, {u'url': u'http://twitter.com/search?q=%23MildredPierce', u'query': u'%23MildredPierce', u'tweet_volume': None, u'name': u'#MildredPierce', u'promoted_content': None}, {u'url': u'http://twitter.com/search?q=%23Dateline', u'query': u'%23Dateline', u'tweet_volume': None, u'name': u'#Dateline', u'promoted_content': None}, {u'url': u'http://twitter.com/search?q=%23ThankfulForCamila', u'query': u'%23ThankfulForCamila', u'tweet_volume': None, u'name': u'#ThankfulForCamila', u'promoted_content': None}, {u'url': u'http://twitter.com/search?q=%23BUFvsNJD', u'query': u'%23BUFvsNJD', u'tweet_volume': None, u'name': u'#BUFvsNJD', u'promoted_content': None}, {u'url': u'http://twitter.com/search?q=%2348Hours', u'query': u'%2348Hours', u'tweet_volume': None, u'name': u'#48Hours', u'promoted_content': None}, {u'url': u'http://twitter.com/search?q=%23NSHvsMIN', u'query': u'%23NSHvsMIN', u'tweet_volume': None, u'name': u'#NSHvsMIN', u'promoted_content': None}], u'as_of': u'2017-12-30T02:16:19Z', u'locations': [{u'woeid': 23424977, u'name': u'United States'}]}]\n"
     ]
    }
   ],
   "source": [
    "world_trends = twitter_api.trends.place(_id=1)\n",
    "us_trends = twitter_api.trends.place(_id=23424977)\n",
    "\n",
    "print world_trends\n",
    "print '---'\n",
    "print us_trends"
   ]
  },
  {
   "cell_type": "code",
   "execution_count": 6,
   "metadata": {
    "collapsed": false
   },
   "outputs": [
    {
     "name": "stdout",
     "output_type": "stream",
     "text": [
      "[\n",
      " {\n",
      "  \"created_at\": \"2017-12-30T02:10:49Z\", \n",
      "  \"trends\": [\n",
      "   {\n",
      "    \"url\": \"http://twitter.com/search?q=%23Retrospectiva2017\", \n",
      "    \"query\": \"%23Retrospectiva2017\", \n",
      "    \"tweet_volume\": 21928, \n",
      "    \"name\": \"#Retrospectiva2017\", \n",
      "    \"promoted_content\": null\n",
      "   }, \n",
      "   {\n",
      "    \"url\": \"http://twitter.com/search?q=%23%D8%A7%D9%85%D9%86%D9%8A%D8%AA%D9%83_%D8%B3%D9%86%D9%87_2018\", \n",
      "    \"query\": \"%23%D8%A7%D9%85%D9%86%D9%8A%D8%AA%D9%83_%D8%B3%D9%86%D9%87_2018\", \n",
      "    \"tweet_volume\": 54534, \n",
      "    \"name\": \"#\\u0627\\u0645\\u0646\\u064a\\u062a\\u0643_\\u0633\\u0646\\u0647_2018\", \n",
      "    \"promoted_content\": null\n",
      "   }, \n",
      "   {\n",
      "    \"url\": \"http://twitter.com/search?q=%23CottonBowl\", \n",
      "    \"query\": \"%23CottonBowl\", \n",
      "    \"tweet_volume\": 11253, \n",
      "    \"name\": \"#CottonBowl\", \n",
      "    \"promoted_content\": null\n",
      "   }, \n",
      "   {\n",
      "    \"url\": \"http://twitter.com/search?q=%23%D9%84%D9%84%D9%8A%D9%84_%D9%83%D9%84%D9%85%D9%87\", \n",
      "    \"query\": \"%23%D9%84%D9%84%D9%8A%D9%84_%D9%83%D9%84%D9%85%D9%87\", \n",
      "    \"tweet_volume\": 13992, \n",
      "    \"name\": \"#\\u0644\\u0644\\u064a\\u0644_\\u0643\\u0644\\u0645\\u0647\", \n",
      "    \"promoted_content\": null\n",
      "   }, \n",
      "   {\n",
      "    \"url\": \"http://twitter.com/search?q=%23MusicCityBowl\", \n",
      "    \"query\": \"%23MusicCityBowl\", \n",
      "    \"tweet_volume\": 12026, \n",
      "    \"name\": \"#MusicCityBowl\", \n",
      "    \"promoted_content\": null\n",
      "   }, \n",
      "   {\n",
      "    \"url\": \"http://twitter.com/search?q=%22Ohio+State%22\", \n",
      "    \"query\": \"%22Ohio+State%22\", \n",
      "    \"tweet_volume\": 23161, \n",
      "    \"name\": \"Ohio State\", \n",
      "    \"promoted_content\": null\n",
      "   }, \n",
      "   {\n",
      "    \"url\": \"http://twitter.com/search?q=%22Family+Feud%22\", \n",
      "    \"query\": \"%22Family+Feud%22\", \n",
      "    \"tweet_volume\": 41198, \n",
      "    \"name\": \"Family Feud\", \n",
      "    \"promoted_content\": null\n",
      "   }, \n",
      "   {\n",
      "    \"url\": \"http://twitter.com/search?q=%22Hang+the+DJ%22\", \n",
      "    \"query\": \"%22Hang+the+DJ%22\", \n",
      "    \"tweet_volume\": 14790, \n",
      "    \"name\": \"Hang the DJ\", \n",
      "    \"promoted_content\": null\n",
      "   }, \n",
      "   {\n",
      "    \"url\": \"http://twitter.com/search?q=%22Denzel+Ward%22\", \n",
      "    \"query\": \"%22Denzel+Ward%22\", \n",
      "    \"tweet_volume\": null, \n",
      "    \"name\": \"Denzel Ward\", \n",
      "    \"promoted_content\": null\n",
      "   }, \n",
      "   {\n",
      "    \"url\": \"http://twitter.com/search?q=Darnold\", \n",
      "    \"query\": \"Darnold\", \n",
      "    \"tweet_volume\": null, \n",
      "    \"name\": \"Darnold\", \n",
      "    \"promoted_content\": null\n",
      "   }, \n",
      "   {\n",
      "    \"url\": \"http://twitter.com/search?q=%22Long+Beach%22\", \n",
      "    \"query\": \"%22Long+Beach%22\", \n",
      "    \"tweet_volume\": null, \n",
      "    \"name\": \"Long Beach\", \n",
      "    \"promoted_content\": null\n",
      "   }, \n",
      "   {\n",
      "    \"url\": \"http://twitter.com/search?q=%22Sue+Grafton%22\", \n",
      "    \"query\": \"%22Sue+Grafton%22\", \n",
      "    \"tweet_volume\": 20809, \n",
      "    \"name\": \"Sue Grafton\", \n",
      "    \"promoted_content\": null\n",
      "   }, \n",
      "   {\n",
      "    \"url\": \"http://twitter.com/search?q=%22JT+Barrett%22\", \n",
      "    \"query\": \"%22JT+Barrett%22\", \n",
      "    \"tweet_volume\": null, \n",
      "    \"name\": \"JT Barrett\", \n",
      "    \"promoted_content\": null\n",
      "   }, \n",
      "   {\n",
      "    \"url\": \"http://twitter.com/search?q=%22Nick+Bosa%22\", \n",
      "    \"query\": \"%22Nick+Bosa%22\", \n",
      "    \"tweet_volume\": null, \n",
      "    \"name\": \"Nick Bosa\", \n",
      "    \"promoted_content\": null\n",
      "   }, \n",
      "   {\n",
      "    \"url\": \"http://twitter.com/search?q=%22Fernanda+Montenegro%22\", \n",
      "    \"query\": \"%22Fernanda+Montenegro%22\", \n",
      "    \"tweet_volume\": null, \n",
      "    \"name\": \"Fernanda Montenegro\", \n",
      "    \"promoted_content\": null\n",
      "   }, \n",
      "   {\n",
      "    \"url\": \"http://twitter.com/search?q=%E8%A8%AD%E5%96%B6%E5%AE%8C%E4%BA%86\", \n",
      "    \"query\": \"%E8%A8%AD%E5%96%B6%E5%AE%8C%E4%BA%86\", \n",
      "    \"tweet_volume\": 23184, \n",
      "    \"name\": \"\\u8a2d\\u55b6\\u5b8c\\u4e86\", \n",
      "    \"promoted_content\": null\n",
      "   }, \n",
      "   {\n",
      "    \"url\": \"http://twitter.com/search?q=%22Stephen+Johnson%22\", \n",
      "    \"query\": \"%22Stephen+Johnson%22\", \n",
      "    \"tweet_volume\": null, \n",
      "    \"name\": \"Stephen Johnson\", \n",
      "    \"promoted_content\": null\n",
      "   }, \n",
      "   {\n",
      "    \"url\": \"http://twitter.com/search?q=%22SDV+SO+FCS%22\", \n",
      "    \"query\": \"%22SDV+SO+FCS%22\", \n",
      "    \"tweet_volume\": null, \n",
      "    \"name\": \"SDV SO FCS\", \n",
      "    \"promoted_content\": null\n",
      "   }, \n",
      "   {\n",
      "    \"url\": \"http://twitter.com/search?q=%22Karmichael+Hunt%22\", \n",
      "    \"query\": \"%22Karmichael+Hunt%22\", \n",
      "    \"tweet_volume\": null, \n",
      "    \"name\": \"Karmichael Hunt\", \n",
      "    \"promoted_content\": null\n",
      "   }, \n",
      "   {\n",
      "    \"url\": \"http://twitter.com/search?q=%22LOS+XV+DE+MARIO%22\", \n",
      "    \"query\": \"%22LOS+XV+DE+MARIO%22\", \n",
      "    \"tweet_volume\": null, \n",
      "    \"name\": \"LOS XV DE MARIO\", \n",
      "    \"promoted_content\": null\n",
      "   }, \n",
      "   {\n",
      "    \"url\": \"http://twitter.com/search?q=%23ThingsNeverSaidIn2017\", \n",
      "    \"query\": \"%23ThingsNeverSaidIn2017\", \n",
      "    \"tweet_volume\": null, \n",
      "    \"name\": \"#ThingsNeverSaidIn2017\", \n",
      "    \"promoted_content\": null\n",
      "   }, \n",
      "   {\n",
      "    \"url\": \"http://twitter.com/search?q=%23PrimerPlano\", \n",
      "    \"query\": \"%23PrimerPlano\", \n",
      "    \"tweet_volume\": null, \n",
      "    \"name\": \"#PrimerPlano\", \n",
      "    \"promoted_content\": null\n",
      "   }, \n",
      "   {\n",
      "    \"url\": \"http://twitter.com/search?q=%23NewYearsHonours\", \n",
      "    \"query\": \"%23NewYearsHonours\", \n",
      "    \"tweet_volume\": null, \n",
      "    \"name\": \"#NewYearsHonours\", \n",
      "    \"promoted_content\": null\n",
      "   }, \n",
      "   {\n",
      "    \"url\": \"http://twitter.com/search?q=%23ViernesIntratable\", \n",
      "    \"query\": \"%23ViernesIntratable\", \n",
      "    \"tweet_volume\": null, \n",
      "    \"name\": \"#ViernesIntratable\", \n",
      "    \"promoted_content\": null\n",
      "   }, \n",
      "   {\n",
      "    \"url\": \"http://twitter.com/search?q=%23%D8%B4%D9%8A_%D9%8A%D8%AC%D8%B1%D8%AD%D9%83_%D8%A7%D8%B0%D8%A7\", \n",
      "    \"query\": \"%23%D8%B4%D9%8A_%D9%8A%D8%AC%D8%B1%D8%AD%D9%83_%D8%A7%D8%B0%D8%A7\", \n",
      "    \"tweet_volume\": 13780, \n",
      "    \"name\": \"#\\u0634\\u064a_\\u064a\\u062c\\u0631\\u062d\\u0643_\\u0627\\u0630\\u0627\", \n",
      "    \"promoted_content\": null\n",
      "   }, \n",
      "   {\n",
      "    \"url\": \"http://twitter.com/search?q=%23%D8%B3%D9%86%D9%86%D9%82%D9%84_%D8%A7%D9%84%D9%85%D8%B9%D8%B1%D9%83%D9%87_%D8%A7%D9%84%D9%8A_%D8%A7%D9%8A%D8%B1%D8%A7%D9%86\", \n",
      "    \"query\": \"%23%D8%B3%D9%86%D9%86%D9%82%D9%84_%D8%A7%D9%84%D9%85%D8%B9%D8%B1%D9%83%D9%87_%D8%A7%D9%84%D9%8A_%D8%A7%D9%8A%D8%B1%D8%A7%D9%86\", \n",
      "    \"tweet_volume\": 21078, \n",
      "    \"name\": \"#\\u0633\\u0646\\u0646\\u0642\\u0644_\\u0627\\u0644\\u0645\\u0639\\u0631\\u0643\\u0647_\\u0627\\u0644\\u064a_\\u0627\\u064a\\u0631\\u0627\\u0646\", \n",
      "    \"promoted_content\": null\n",
      "   }, \n",
      "   {\n",
      "    \"url\": \"http://twitter.com/search?q=%23UltimoLegendarios\", \n",
      "    \"query\": \"%23UltimoLegendarios\", \n",
      "    \"tweet_volume\": null, \n",
      "    \"name\": \"#UltimoLegendarios\", \n",
      "    \"promoted_content\": null\n",
      "   }, \n",
      "   {\n",
      "    \"url\": \"http://twitter.com/search?q=%23WithoutSarcasmIWould\", \n",
      "    \"query\": \"%23WithoutSarcasmIWould\", \n",
      "    \"tweet_volume\": null, \n",
      "    \"name\": \"#WithoutSarcasmIWould\", \n",
      "    \"promoted_content\": null\n",
      "   }, \n",
      "   {\n",
      "    \"url\": \"http://twitter.com/search?q=%23%D8%A8%D8%AF%D8%A7%D9%8A%D9%87_%D8%A7%D9%84%D8%B3%D9%86%D9%87_%D8%A7%D9%84%D8%AC%D8%AF%D9%8A%D8%AF%D9%87_%D8%A7%D9%82%D9%88%D9%84\", \n",
      "    \"query\": \"%23%D8%A8%D8%AF%D8%A7%D9%8A%D9%87_%D8%A7%D9%84%D8%B3%D9%86%D9%87_%D8%A7%D9%84%D8%AC%D8%AF%D9%8A%D8%AF%D9%87_%D8%A7%D9%82%D9%88%D9%84\", \n",
      "    \"tweet_volume\": null, \n",
      "    \"name\": \"#\\u0628\\u062f\\u0627\\u064a\\u0647_\\u0627\\u0644\\u0633\\u0646\\u0647_\\u0627\\u0644\\u062c\\u062f\\u064a\\u062f\\u0647_\\u0627\\u0642\\u0648\\u0644\", \n",
      "    \"promoted_content\": null\n",
      "   }, \n",
      "   {\n",
      "    \"url\": \"http://twitter.com/search?q=%23ParoNacionalDocenteEnEnero\", \n",
      "    \"query\": \"%23ParoNacionalDocenteEnEnero\", \n",
      "    \"tweet_volume\": null, \n",
      "    \"name\": \"#ParoNacionalDocenteEnEnero\", \n",
      "    \"promoted_content\": null\n",
      "   }, \n",
      "   {\n",
      "    \"url\": \"http://twitter.com/search?q=%23WorldJuniors\", \n",
      "    \"query\": \"%23WorldJuniors\", \n",
      "    \"tweet_volume\": 19043, \n",
      "    \"name\": \"#WorldJuniors\", \n",
      "    \"promoted_content\": null\n",
      "   }, \n",
      "   {\n",
      "    \"url\": \"http://twitter.com/search?q=%23%D8%A7%D9%84%D8%B3%D8%B9%D8%A7%D8%AF%D9%87_%D8%AF%D8%A7%D9%8A%D9%85\", \n",
      "    \"query\": \"%23%D8%A7%D9%84%D8%B3%D8%B9%D8%A7%D8%AF%D9%87_%D8%AF%D8%A7%D9%8A%D9%85\", \n",
      "    \"tweet_volume\": null, \n",
      "    \"name\": \"#\\u0627\\u0644\\u0633\\u0639\\u0627\\u062f\\u0647_\\u062f\\u0627\\u064a\\u0645\", \n",
      "    \"promoted_content\": null\n",
      "   }, \n",
      "   {\n",
      "    \"url\": \"http://twitter.com/search?q=%23MiGeneraci%C3%B3nFueLaDe\", \n",
      "    \"query\": \"%23MiGeneraci%C3%B3nFueLaDe\", \n",
      "    \"tweet_volume\": null, \n",
      "    \"name\": \"#MiGeneraci\\u00f3nFueLaDe\", \n",
      "    \"promoted_content\": null\n",
      "   }, \n",
      "   {\n",
      "    \"url\": \"http://twitter.com/search?q=%23ParaEl2018Quiero\", \n",
      "    \"query\": \"%23ParaEl2018Quiero\", \n",
      "    \"tweet_volume\": null, \n",
      "    \"name\": \"#ParaEl2018Quiero\", \n",
      "    \"promoted_content\": null\n",
      "   }, \n",
      "   {\n",
      "    \"url\": \"http://twitter.com/search?q=%23Iranprotests\", \n",
      "    \"query\": \"%23Iranprotests\", \n",
      "    \"tweet_volume\": 22516, \n",
      "    \"name\": \"#Iranprotests\", \n",
      "    \"promoted_content\": null\n",
      "   }, \n",
      "   {\n",
      "    \"url\": \"http://twitter.com/search?q=%23SomosLH\", \n",
      "    \"query\": \"%23SomosLH\", \n",
      "    \"tweet_volume\": 41199, \n",
      "    \"name\": \"#SomosLH\", \n",
      "    \"promoted_content\": null\n",
      "   }, \n",
      "   {\n",
      "    \"url\": \"http://twitter.com/search?q=%23MisPropositos2018\", \n",
      "    \"query\": \"%23MisPropositos2018\", \n",
      "    \"tweet_volume\": null, \n",
      "    \"name\": \"#MisPropositos2018\", \n",
      "    \"promoted_content\": null\n",
      "   }, \n",
      "   {\n",
      "    \"url\": \"http://twitter.com/search?q=%23WizRockets\", \n",
      "    \"query\": \"%23WizRockets\", \n",
      "    \"tweet_volume\": null, \n",
      "    \"name\": \"#WizRockets\", \n",
      "    \"promoted_content\": null\n",
      "   }, \n",
      "   {\n",
      "    \"url\": \"http://twitter.com/search?q=%23RaoulTeQueremos\", \n",
      "    \"query\": \"%23RaoulTeQueremos\", \n",
      "    \"tweet_volume\": null, \n",
      "    \"name\": \"#RaoulTeQueremos\", \n",
      "    \"promoted_content\": null\n",
      "   }, \n",
      "   {\n",
      "    \"url\": \"http://twitter.com/search?q=%23%D9%8A%D8%A7%D8%B3%D8%A7\", \n",
      "    \"query\": \"%23%D9%8A%D8%A7%D8%B3%D8%A7\", \n",
      "    \"tweet_volume\": null, \n",
      "    \"name\": \"#\\u064a\\u0627\\u0633\\u0627\", \n",
      "    \"promoted_content\": null\n",
      "   }, \n",
      "   {\n",
      "    \"url\": \"http://twitter.com/search?q=%23AgradezcoAFreddy\", \n",
      "    \"query\": \"%23AgradezcoAFreddy\", \n",
      "    \"tweet_volume\": null, \n",
      "    \"name\": \"#AgradezcoAFreddy\", \n",
      "    \"promoted_content\": null\n",
      "   }, \n",
      "   {\n",
      "    \"url\": \"http://twitter.com/search?q=%23ConvosWithEmery\", \n",
      "    \"query\": \"%23ConvosWithEmery\", \n",
      "    \"tweet_volume\": null, \n",
      "    \"name\": \"#ConvosWithEmery\", \n",
      "    \"promoted_content\": null\n",
      "   }, \n",
      "   {\n",
      "    \"url\": \"http://twitter.com/search?q=%23OTDirecto30D\", \n",
      "    \"query\": \"%23OTDirecto30D\", \n",
      "    \"tweet_volume\": null, \n",
      "    \"name\": \"#OTDirecto30D\", \n",
      "    \"promoted_content\": null\n",
      "   }, \n",
      "   {\n",
      "    \"url\": \"http://twitter.com/search?q=%23BelkBowl\", \n",
      "    \"query\": \"%23BelkBowl\", \n",
      "    \"tweet_volume\": 11205, \n",
      "    \"name\": \"#BelkBowl\", \n",
      "    \"promoted_content\": null\n",
      "   }, \n",
      "   {\n",
      "    \"url\": \"http://twitter.com/search?q=%23%E5%AF%8C%E5%A3%AB%E5%B1%B1%E5%A5%B3%E5%AD%90%E9%A7%85%E4%BC%9D\", \n",
      "    \"query\": \"%23%E5%AF%8C%E5%A3%AB%E5%B1%B1%E5%A5%B3%E5%AD%90%E9%A7%85%E4%BC%9D\", \n",
      "    \"tweet_volume\": null, \n",
      "    \"name\": \"#\\u5bcc\\u58eb\\u5c71\\u5973\\u5b50\\u99c5\\u4f1d\", \n",
      "    \"promoted_content\": null\n",
      "   }, \n",
      "   {\n",
      "    \"url\": \"http://twitter.com/search?q=%23%D8%B2%D8%AF_%D8%B1%D8%B5%D9%8A%D8%AF%D9%8388\", \n",
      "    \"query\": \"%23%D8%B2%D8%AF_%D8%B1%D8%B5%D9%8A%D8%AF%D9%8388\", \n",
      "    \"tweet_volume\": 112042, \n",
      "    \"name\": \"#\\u0632\\u062f_\\u0631\\u0635\\u064a\\u062f\\u064388\", \n",
      "    \"promoted_content\": null\n",
      "   }, \n",
      "   {\n",
      "    \"url\": \"http://twitter.com/search?q=%23CrotoneNapoli\", \n",
      "    \"query\": \"%23CrotoneNapoli\", \n",
      "    \"tweet_volume\": null, \n",
      "    \"name\": \"#CrotoneNapoli\", \n",
      "    \"promoted_content\": null\n",
      "   }, \n",
      "   {\n",
      "    \"url\": \"http://twitter.com/search?q=%23LuisitoLIVE\", \n",
      "    \"query\": \"%23LuisitoLIVE\", \n",
      "    \"tweet_volume\": null, \n",
      "    \"name\": \"#LuisitoLIVE\", \n",
      "    \"promoted_content\": null\n",
      "   }, \n",
      "   {\n",
      "    \"url\": \"http://twitter.com/search?q=%23EtchevehereAllanado\", \n",
      "    \"query\": \"%23EtchevehereAllanado\", \n",
      "    \"tweet_volume\": null, \n",
      "    \"name\": \"#EtchevehereAllanado\", \n",
      "    \"promoted_content\": null\n",
      "   }, \n",
      "   {\n",
      "    \"url\": \"http://twitter.com/search?q=%23%D8%A7%D9%84%D8%A8%D8%A7%D9%82%D8%A7%D9%8A%D8%A7%D8%AA_%D8%A7%D9%84%D8%B5%D8%A7%D9%84%D8%AD%D8%A7%D8%AA\", \n",
      "    \"query\": \"%23%D8%A7%D9%84%D8%A8%D8%A7%D9%82%D8%A7%D9%8A%D8%A7%D8%AA_%D8%A7%D9%84%D8%B5%D8%A7%D9%84%D8%AD%D8%A7%D8%AA\", \n",
      "    \"tweet_volume\": null, \n",
      "    \"name\": \"#\\u0627\\u0644\\u0628\\u0627\\u0642\\u0627\\u064a\\u0627\\u062a_\\u0627\\u0644\\u0635\\u0627\\u0644\\u062d\\u0627\\u062a\", \n",
      "    \"promoted_content\": null\n",
      "   }\n",
      "  ], \n",
      "  \"as_of\": \"2017-12-30T02:14:18Z\", \n",
      "  \"locations\": [\n",
      "   {\n",
      "    \"woeid\": 1, \n",
      "    \"name\": \"Worldwide\"\n",
      "   }\n",
      "  ]\n",
      " }\n",
      "]\n"
     ]
    }
   ],
   "source": [
    "print json.dumps(world_trends, indent=1)"
   ]
  },
  {
   "cell_type": "markdown",
   "metadata": {},
   "source": [
    "### Computing the intersection of two sets of trends"
   ]
  },
  {
   "cell_type": "code",
   "execution_count": 12,
   "metadata": {
    "collapsed": false
   },
   "outputs": [
    {
     "name": "stdout",
     "output_type": "stream",
     "text": [
      "set([u'#\\u0627\\u0644\\u0628\\u0627\\u0642\\u0627\\u064a\\u0627\\u062a_\\u0627\\u0644\\u0635\\u0627\\u0644\\u062d\\u0627\\u062a', u'#\\u0633\\u0646\\u0646\\u0642\\u0644_\\u0627\\u0644\\u0645\\u0639\\u0631\\u0643\\u0647_\\u0627\\u0644\\u064a_\\u0627\\u064a\\u0631\\u0627\\u0646', u'#\\u0628\\u062f\\u0627\\u064a\\u0647_\\u0627\\u0644\\u0633\\u0646\\u0647_\\u0627\\u0644\\u062c\\u062f\\u064a\\u062f\\u0647_\\u0627\\u0642\\u0648\\u0644', u'#ConvosWithEmery', u'#SomosLH', u'#RaoulTeQueremos', u'#NewYearsHonours', u'Stephen Johnson', u'#Iranprotests', u'#ParaEl2018Quiero', u'Ohio State', u'Hang the DJ', u'Sue Grafton', u'\\u8a2d\\u55b6\\u5b8c\\u4e86', u'#PrimerPlano', u'#ParoNacionalDocenteEnEnero', u'#Retrospectiva2017', u'#\\u0634\\u064a_\\u064a\\u062c\\u0631\\u062d\\u0643_\\u0627\\u0630\\u0627', u'#BelkBowl', u'#CrotoneNapoli', u'SDV SO FCS', u'#WizRockets', u'#ThingsNeverSaidIn2017', u'#ViernesIntratable', u'Karmichael Hunt', u'#\\u0627\\u0644\\u0633\\u0639\\u0627\\u062f\\u0647_\\u062f\\u0627\\u064a\\u0645', u'Nick Bosa', u'#\\u0627\\u0645\\u0646\\u064a\\u062a\\u0643_\\u0633\\u0646\\u0647_2018', u'#MiGeneraci\\xf3nFueLaDe', u'#MusicCityBowl', u'Fernanda Montenegro', u'#\\u0644\\u0644\\u064a\\u0644_\\u0643\\u0644\\u0645\\u0647', u'JT Barrett', u'#\\u0632\\u062f_\\u0631\\u0635\\u064a\\u062f\\u064388', u'Denzel Ward', u'#LuisitoLIVE', u'#WithoutSarcasmIWould', u'Family Feud', u'#\\u5bcc\\u58eb\\u5c71\\u5973\\u5b50\\u99c5\\u4f1d', u'#OTDirecto30D', u'#\\u064a\\u0627\\u0633\\u0627', u'Darnold', u'#EtchevehereAllanado', u'Long Beach', u'LOS XV DE MARIO', u'#UltimoLegendarios', u'#CottonBowl', u'#MisPropositos2018', u'#AgradezcoAFreddy', u'#WorldJuniors'])\n",
      "---\n",
      "set([u'#ConvosWithEmery', u'Darnold', u'Nick Bosa', u'#WizRockets', u'Denzel Ward', u'Stephen Johnson', u'#Iranprotests', u'#MusicCityBowl', u'Ohio State', u'JT Barrett', u'#CottonBowl', u'Hang the DJ', u'Sue Grafton', u'#ThingsNeverSaidIn2017', u'#WithoutSarcasmIWould', u'Family Feud'])\n"
     ]
    }
   ],
   "source": [
    "world_trends_set = set([trend['name'] \n",
    "                        for trend in world_trends[0]['trends']])\n",
    "\n",
    "us_trends_set = set([trend['name'] \n",
    "                     for trend in us_trends[0]['trends']]) \n",
    "\n",
    "common_trends = world_trends_set.intersection(us_trends_set)\n",
    "\n",
    "print world_trends_set\n",
    "print '---'\n",
    "print common_trends"
   ]
  },
  {
   "cell_type": "markdown",
   "metadata": {},
   "source": [
    "### Collecting search results"
   ]
  },
  {
   "cell_type": "code",
   "execution_count": 18,
   "metadata": {
    "collapsed": false
   },
   "outputs": [
    {
     "name": "stdout",
     "output_type": "stream",
     "text": [
      "Length of statuses 100\n",
      "Length of statuses 200\n",
      "Length of statuses 300\n",
      "Length of statuses 400\n",
      "Length of statuses 400\n",
      "{\n",
      " \"contributors\": null, \n",
      " \"truncated\": false, \n",
      " \"text\": \"RT @ARTEfr: Marre de la solitude ?\\nD\\u00e9couvrez les bons plans de #BridgetJones pour trouver l'amour \\u00e0 #Londres ! \\ud83d\\udc96\\nhttps://t.co/WeARqFwLT9 ht\\u2026\", \n",
      " \"is_quote_status\": false, \n",
      " \"in_reply_to_status_id\": null, \n",
      " \"id\": 946912272013758464, \n",
      " \"favorite_count\": 0, \n",
      " \"entities\": {\n",
      "  \"symbols\": [], \n",
      "  \"user_mentions\": [\n",
      "   {\n",
      "    \"id\": 14140057, \n",
      "    \"indices\": [\n",
      "     3, \n",
      "     10\n",
      "    ], \n",
      "    \"id_str\": \"14140057\", \n",
      "    \"screen_name\": \"ARTEfr\", \n",
      "    \"name\": \"ARTE\"\n",
      "   }\n",
      "  ], \n",
      "  \"hashtags\": [\n",
      "   {\n",
      "    \"indices\": [\n",
      "     63, \n",
      "     76\n",
      "    ], \n",
      "    \"text\": \"BridgetJones\"\n",
      "   }, \n",
      "   {\n",
      "    \"indices\": [\n",
      "     100, \n",
      "     108\n",
      "    ], \n",
      "    \"text\": \"Londres\"\n",
      "   }\n",
      "  ], \n",
      "  \"urls\": [\n",
      "   {\n",
      "    \"url\": \"https://t.co/WeARqFwLT9\", \n",
      "    \"indices\": [\n",
      "     113, \n",
      "     136\n",
      "    ], \n",
      "    \"expanded_url\": \"http://bit.ly/Bjones\", \n",
      "    \"display_url\": \"bit.ly/Bjones\"\n",
      "   }\n",
      "  ]\n",
      " }, \n",
      " \"retweeted\": false, \n",
      " \"coordinates\": null, \n",
      " \"source\": \"<a href=\\\"http://twitter.com/download/iphone\\\" rel=\\\"nofollow\\\">Twitter for iPhone</a>\", \n",
      " \"in_reply_to_screen_name\": null, \n",
      " \"in_reply_to_user_id\": null, \n",
      " \"retweet_count\": 18, \n",
      " \"id_str\": \"946912272013758464\", \n",
      " \"favorited\": false, \n",
      " \"retweeted_status\": {\n",
      "  \"contributors\": null, \n",
      "  \"truncated\": true, \n",
      "  \"text\": \"Marre de la solitude ?\\nD\\u00e9couvrez les bons plans de #BridgetJones pour trouver l'amour \\u00e0 #Londres ! \\ud83d\\udc96\\u2026 https://t.co/zvyAOwCohH\", \n",
      "  \"is_quote_status\": false, \n",
      "  \"in_reply_to_status_id\": null, \n",
      "  \"id\": 946093328612728834, \n",
      "  \"favorite_count\": 51, \n",
      "  \"entities\": {\n",
      "   \"symbols\": [], \n",
      "   \"user_mentions\": [], \n",
      "   \"hashtags\": [\n",
      "    {\n",
      "     \"indices\": [\n",
      "      51, \n",
      "      64\n",
      "     ], \n",
      "     \"text\": \"BridgetJones\"\n",
      "    }, \n",
      "    {\n",
      "     \"indices\": [\n",
      "      88, \n",
      "      96\n",
      "     ], \n",
      "     \"text\": \"Londres\"\n",
      "    }\n",
      "   ], \n",
      "   \"urls\": [\n",
      "    {\n",
      "     \"url\": \"https://t.co/zvyAOwCohH\", \n",
      "     \"indices\": [\n",
      "      102, \n",
      "      125\n",
      "     ], \n",
      "     \"expanded_url\": \"https://twitter.com/i/web/status/946093328612728834\", \n",
      "     \"display_url\": \"twitter.com/i/web/status/9\\u2026\"\n",
      "    }\n",
      "   ]\n",
      "  }, \n",
      "  \"retweeted\": false, \n",
      "  \"coordinates\": null, \n",
      "  \"source\": \"<a href=\\\"https://studio.twitter.com\\\" rel=\\\"nofollow\\\">Media Studio</a>\", \n",
      "  \"in_reply_to_screen_name\": null, \n",
      "  \"in_reply_to_user_id\": null, \n",
      "  \"retweet_count\": 18, \n",
      "  \"id_str\": \"946093328612728834\", \n",
      "  \"favorited\": false, \n",
      "  \"user\": {\n",
      "   \"follow_request_sent\": false, \n",
      "   \"has_extended_profile\": false, \n",
      "   \"profile_use_background_image\": false, \n",
      "   \"default_profile_image\": false, \n",
      "   \"id\": 14140057, \n",
      "   \"profile_background_image_url_https\": \"https://pbs.twimg.com/profile_background_images/697707256427716608/GG2QwHH-.jpg\", \n",
      "   \"verified\": true, \n",
      "   \"translator_type\": \"regular\", \n",
      "   \"profile_text_color\": \"333333\", \n",
      "   \"profile_image_url_https\": \"https://pbs.twimg.com/profile_images/846275542324334592/DmfQqjMJ_normal.jpg\", \n",
      "   \"profile_sidebar_fill_color\": \"DDFFCC\", \n",
      "   \"entities\": {\n",
      "    \"url\": {\n",
      "     \"urls\": [\n",
      "      {\n",
      "       \"url\": \"https://t.co/GziBbr7Lmp\", \n",
      "       \"indices\": [\n",
      "        0, \n",
      "        23\n",
      "       ], \n",
      "       \"expanded_url\": \"http://www.arte.tv\", \n",
      "       \"display_url\": \"arte.tv\"\n",
      "      }\n",
      "     ]\n",
      "    }, \n",
      "    \"description\": {\n",
      "     \"urls\": []\n",
      "    }\n",
      "   }, \n",
      "   \"followers_count\": 1097641, \n",
      "   \"profile_sidebar_border_color\": \"000000\", \n",
      "   \"id_str\": \"14140057\", \n",
      "   \"profile_background_color\": \"B2DFDA\", \n",
      "   \"listed_count\": 7048, \n",
      "   \"is_translation_enabled\": false, \n",
      "   \"utc_offset\": 3600, \n",
      "   \"statuses_count\": 32283, \n",
      "   \"description\": \"ARTE, la cha\\u00eene culturelle europ\\u00e9enne, en fran\\u00e7ais ! Suivez-nous aussi sur @ARTEde\\ud83c\\udde9\\ud83c\\uddea @ARTEen\\ud83c\\uddec\\ud83c\\udde7 @ARTEesp\\ud83c\\uddea\\ud83c\\uddf8 et @ARTEpl\\ud83c\\uddf5\\ud83c\\uddf1\", \n",
      "   \"friends_count\": 2095, \n",
      "   \"location\": \"Paris, Strasbourg, Baden-Baden\", \n",
      "   \"profile_link_color\": \"FA743E\", \n",
      "   \"profile_image_url\": \"http://pbs.twimg.com/profile_images/846275542324334592/DmfQqjMJ_normal.jpg\", \n",
      "   \"following\": false, \n",
      "   \"geo_enabled\": true, \n",
      "   \"profile_banner_url\": \"https://pbs.twimg.com/profile_banners/14140057/1513933223\", \n",
      "   \"profile_background_image_url\": \"http://pbs.twimg.com/profile_background_images/697707256427716608/GG2QwHH-.jpg\", \n",
      "   \"screen_name\": \"ARTEfr\", \n",
      "   \"lang\": \"fr\", \n",
      "   \"profile_background_tile\": false, \n",
      "   \"favourites_count\": 16217, \n",
      "   \"name\": \"ARTE\", \n",
      "   \"notifications\": false, \n",
      "   \"url\": \"https://t.co/GziBbr7Lmp\", \n",
      "   \"created_at\": \"Thu Mar 13 15:22:26 +0000 2008\", \n",
      "   \"contributors_enabled\": false, \n",
      "   \"time_zone\": \"Paris\", \n",
      "   \"protected\": false, \n",
      "   \"default_profile\": false, \n",
      "   \"is_translator\": false\n",
      "  }, \n",
      "  \"geo\": null, \n",
      "  \"in_reply_to_user_id_str\": null, \n",
      "  \"possibly_sensitive\": false, \n",
      "  \"lang\": \"fr\", \n",
      "  \"created_at\": \"Wed Dec 27 19:00:01 +0000 2017\", \n",
      "  \"in_reply_to_status_id_str\": null, \n",
      "  \"place\": null, \n",
      "  \"metadata\": {\n",
      "   \"iso_language_code\": \"fr\", \n",
      "   \"result_type\": \"recent\"\n",
      "  }\n",
      " }, \n",
      " \"user\": {\n",
      "  \"follow_request_sent\": false, \n",
      "  \"has_extended_profile\": false, \n",
      "  \"profile_use_background_image\": true, \n",
      "  \"default_profile_image\": false, \n",
      "  \"id\": 2719541553, \n",
      "  \"profile_background_image_url_https\": \"https://abs.twimg.com/images/themes/theme1/bg.png\", \n",
      "  \"verified\": false, \n",
      "  \"translator_type\": \"none\", \n",
      "  \"profile_text_color\": \"333333\", \n",
      "  \"profile_image_url_https\": \"https://pbs.twimg.com/profile_images/491240390834802689/8qNsb0Dz_normal.jpeg\", \n",
      "  \"profile_sidebar_fill_color\": \"DDEEF6\", \n",
      "  \"entities\": {\n",
      "   \"description\": {\n",
      "    \"urls\": []\n",
      "   }\n",
      "  }, \n",
      "  \"followers_count\": 58, \n",
      "  \"profile_sidebar_border_color\": \"C0DEED\", \n",
      "  \"id_str\": \"2719541553\", \n",
      "  \"profile_background_color\": \"C0DEED\", \n",
      "  \"listed_count\": 1, \n",
      "  \"is_translation_enabled\": false, \n",
      "  \"utc_offset\": null, \n",
      "  \"statuses_count\": 751, \n",
      "  \"description\": \"\", \n",
      "  \"friends_count\": 155, \n",
      "  \"location\": \"\", \n",
      "  \"profile_link_color\": \"1DA1F2\", \n",
      "  \"profile_image_url\": \"http://pbs.twimg.com/profile_images/491240390834802689/8qNsb0Dz_normal.jpeg\", \n",
      "  \"following\": false, \n",
      "  \"geo_enabled\": false, \n",
      "  \"profile_banner_url\": \"https://pbs.twimg.com/profile_banners/2719541553/1405955813\", \n",
      "  \"profile_background_image_url\": \"http://abs.twimg.com/images/themes/theme1/bg.png\", \n",
      "  \"screen_name\": \"e_erics\", \n",
      "  \"lang\": \"fr\", \n",
      "  \"profile_background_tile\": false, \n",
      "  \"favourites_count\": 2612, \n",
      "  \"name\": \"Eric ly 69\", \n",
      "  \"notifications\": false, \n",
      "  \"url\": null, \n",
      "  \"created_at\": \"Mon Jul 21 08:18:20 +0000 2014\", \n",
      "  \"contributors_enabled\": false, \n",
      "  \"time_zone\": null, \n",
      "  \"protected\": false, \n",
      "  \"default_profile\": true, \n",
      "  \"is_translator\": false\n",
      " }, \n",
      " \"geo\": null, \n",
      " \"in_reply_to_user_id_str\": null, \n",
      " \"possibly_sensitive\": false, \n",
      " \"lang\": \"fr\", \n",
      " \"created_at\": \"Sat Dec 30 01:14:13 +0000 2017\", \n",
      " \"in_reply_to_status_id_str\": null, \n",
      " \"place\": null, \n",
      " \"metadata\": {\n",
      "  \"iso_language_code\": \"fr\", \n",
      "  \"result_type\": \"recent\"\n",
      " }\n",
      "}\n"
     ]
    }
   ],
   "source": [
    "# Import unquote to prevent url encoding errors in next_results\n",
    "from urllib import unquote\n",
    "\n",
    "# XXX: Set this variable to a trending topic, \n",
    "# or anything else for that matter. The example query below\n",
    "# was a trending topic when this content was being developed\n",
    "# and is used throughout the remainder of this chapter.\n",
    "\n",
    "q = '#BridgetJones' \n",
    "\n",
    "count = 100\n",
    "\n",
    "# See https://dev.twitter.com/docs/api/1.1/get/search/tweets\n",
    "\n",
    "search_results = twitter_api.search.tweets(q=q, count=count)\n",
    "\n",
    "statuses = search_results['statuses']\n",
    "\n",
    "# Iterate through 5 more batches of results by following the cursor\n",
    "\n",
    "for _ in range(5):\n",
    "    print \"Length of statuses\", len(statuses)\n",
    "    try:\n",
    "        next_results = search_results['search_metadata']['next_results']\n",
    "    except KeyError, e: # No more results when next_results doesn't exist\n",
    "        break\n",
    "        \n",
    "    # Create a dictionary from next_results, which has the following form:\n",
    "    # ?max_id=313519052523986943&q=NCAA&include_entities=1\n",
    "    kwargs = dict([kv.split('=') for kv in unquote(next_results[1:]).split(\"&\") ])\n",
    "    \n",
    "    search_results = twitter_api.search.tweets(**kwargs)\n",
    "    statuses += search_results['statuses']\n",
    "\n",
    "# Show one sample search result by slicing the list...\n",
    "print json.dumps(statuses[0], indent=1)"
   ]
  },
  {
   "cell_type": "markdown",
   "metadata": {},
   "source": [
    "### Extracting text, screen names, and hashtags from tweets"
   ]
  },
  {
   "cell_type": "code",
   "execution_count": 28,
   "metadata": {
    "collapsed": false
   },
   "outputs": [
    {
     "name": "stdout",
     "output_type": "stream",
     "text": [
      "[\n",
      " \"RT @ARTEfr: Marre de la solitude ?\\nD\\u00e9couvrez les bons plans de #BridgetJones pour trouver l'amour \\u00e0 #Londres ! \\ud83d\\udc96\\nhttps://t.co/WeARqFwLT9 ht\\u2026\", \n",
      " \"#Christmas #bridgetjones https://t.co/MnenJn2pJN\", \n",
      " \"Love Bridget Jones' Baby @edsheeran is the guy from starbucks \\ud83d\\ude02\\ud83d\\ude02 #bridgetjones\\n#bridgetjonesbaby #EdSheeran\", \n",
      " \"RT @ARTEfr: Marre de la solitude ?\\nD\\u00e9couvrez les bons plans de #BridgetJones pour trouver l'amour \\u00e0 #Londres ! \\ud83d\\udc96\\nhttps://t.co/WeARqFwLT9 ht\\u2026\", \n",
      " \"C\\u2019\\u00e8 un po\\u2019 di #BridgetJones in tutti noi maschio o femmina che sia\"\n",
      "]\n",
      "[\n",
      " \"ARTEfr\", \n",
      " \"edsheeran\", \n",
      " \"ARTEfr\", \n",
      " \"AlemDergisi\", \n",
      " \"mariarosevogler\"\n",
      "]\n",
      "[\n",
      " \"BridgetJones\", \n",
      " \"Londres\", \n",
      " \"Christmas\", \n",
      " \"bridgetjones\", \n",
      " \"bridgetjones\"\n",
      "]\n",
      "[\n",
      " \"RT\", \n",
      " \"@ARTEfr:\", \n",
      " \"Marre\", \n",
      " \"de\", \n",
      " \"la\"\n",
      "]\n"
     ]
    }
   ],
   "source": [
    "status_texts = [ status['text'] \n",
    "                 for status in statuses ]\n",
    "\n",
    "screen_names = [ user_mention['screen_name'] \n",
    "                 for status in statuses\n",
    "                     for user_mention in status['entities']['user_mentions'] ]\n",
    "\n",
    "hashtags = [ hashtag['text'] \n",
    "             for status in statuses\n",
    "                 for hashtag in status['entities']['hashtags'] ]\n",
    "\n",
    "# Compute a collection of all words from all tweets\n",
    "words = [ w \n",
    "          for t in status_texts \n",
    "              for w in t.split() ]\n",
    "\n",
    "# Explore the first 5 items for each...\n",
    "\n",
    "print json.dumps(status_texts[0:5], indent=1)\n",
    "print json.dumps(screen_names[0:5], indent=1) \n",
    "print json.dumps(hashtags[0:5], indent=1)\n",
    "print json.dumps(words[0:5], indent=1)"
   ]
  },
  {
   "cell_type": "markdown",
   "metadata": {},
   "source": [
    "### Creating a basic frequency distribution from the words in tweets"
   ]
  },
  {
   "cell_type": "code",
   "execution_count": 30,
   "metadata": {
    "collapsed": false
   },
   "outputs": [
    {
     "name": "stdout",
     "output_type": "stream",
     "text": [
      "[(u'#BridgetJones', 168), (u'#bridgetjones', 133), (u'de', 96), (u'RT', 73), (u'a', 65), (u'la', 56), (u'en', 45), (u'the', 43), (u'Bridget', 42), (u'and', 39)]\n",
      "---\n",
      "\n",
      "[(u'ARTEfr', 30), (u'laSextaTV', 12), (u'VOXde', 6), (u'CFAddicted', 4), (u'ecartelera', 3), (u'ITV', 3), (u'CsarWalls', 3), (u'_Azahara14', 2), (u'Scarfie1', 2), (u'CF_OutsourceUK', 2)]\n",
      "---\n",
      "\n",
      "[(u'BridgetJones', 208), (u'bridgetjones', 147), (u'Londres', 32), (u'ColinFirth', 15), (u'Christmas', 7), (u'LoveActually', 6), (u'Navidad', 5), (u'MarkDarcy', 5), (u'HughGrant', 4), (u'TheHoliday', 4)]\n",
      "---\n",
      "\n"
     ]
    }
   ],
   "source": [
    "from collections import Counter\n",
    "\n",
    "for item in [words, screen_names, hashtags]:\n",
    "    c = Counter(item)\n",
    "    print c.most_common()[:10] # top 10\n",
    "    print '---'\n",
    "    print"
   ]
  },
  {
   "cell_type": "markdown",
   "metadata": {},
   "source": [
    "### Calculating lexical diversity for tweets¶"
   ]
  },
  {
   "cell_type": "code",
   "execution_count": 31,
   "metadata": {
    "collapsed": false
   },
   "outputs": [
    {
     "name": "stdout",
     "output_type": "stream",
     "text": [
      "0.43284920208\n",
      "0.514925373134\n",
      "0.29696969697\n",
      "13.9425\n"
     ]
    }
   ],
   "source": [
    "# A function for computing lexical diversity\n",
    "def lexical_diversity(tokens):\n",
    "    return 1.0*len(set(tokens))/len(tokens) \n",
    "\n",
    "# A function for computing the average number of words per tweet\n",
    "def average_words(statuses):\n",
    "    total_words = sum([ len(s.split()) for s in statuses ]) \n",
    "    return 1.0*total_words/len(statuses)\n",
    "\n",
    "print lexical_diversity(words)\n",
    "print lexical_diversity(screen_names)\n",
    "print lexical_diversity(hashtags)\n",
    "print average_words(status_texts)"
   ]
  },
  {
   "cell_type": "markdown",
   "metadata": {},
   "source": [
    "### Finding the most popular retweets"
   ]
  },
  {
   "cell_type": "code",
   "execution_count": 35,
   "metadata": {
    "collapsed": false
   },
   "outputs": [
    {
     "data": {
      "text/plain": [
       "[(18,\n",
       "  u'ARTEfr',\n",
       "  u\"RT @ARTEfr: Marre de la solitude ?\\nD\\xe9couvrez les bons plans de #BridgetJones pour trouver l'amour \\xe0 #Londres ! \\U0001f496\\nhttps://t.co/WeARqFwLT9 ht\\u2026\"),\n",
       " (18,\n",
       "  u'ARTEfr',\n",
       "  u\"RT @ARTEfr: Marre de la solitude ?\\nD\\xe9couvrez les bons plans de #BridgetJones pour trouver l'amour \\xe0 #Londres ! \\U0001f496\\nhttps://t.co/WeARqFwLT9 ht\\u2026\"),\n",
       " (18,\n",
       "  u'ARTEfr',\n",
       "  u\"RT @ARTEfr: Marre de la solitude ?\\nD\\xe9couvrez les bons plans de #BridgetJones pour trouver l'amour \\xe0 #Londres ! \\U0001f496\\nhttps://t.co/WeARqFwLT9 ht\\u2026\"),\n",
       " (18,\n",
       "  u'ARTEfr',\n",
       "  u\"RT @ARTEfr: Marre de la solitude ?\\nD\\xe9couvrez les bons plans de #BridgetJones pour trouver l'amour \\xe0 #Londres ! \\U0001f496\\nhttps://t.co/WeARqFwLT9 ht\\u2026\"),\n",
       " (18,\n",
       "  u'ARTEfr',\n",
       "  u\"RT @ARTEfr: Marre de la solitude ?\\nD\\xe9couvrez les bons plans de #BridgetJones pour trouver l'amour \\xe0 #Londres ! \\U0001f496\\nhttps://t.co/WeARqFwLT9 ht\\u2026\")]"
      ]
     },
     "execution_count": 35,
     "metadata": {},
     "output_type": "execute_result"
    }
   ],
   "source": [
    "retweets = [\n",
    "            # Store out a tuple of these three values ...\n",
    "            (status['retweet_count'], \n",
    "             status['retweeted_status']['user']['screen_name'],\n",
    "             status['text']) \n",
    "            \n",
    "            # ... for each status ...\n",
    "            for status in statuses \n",
    "            \n",
    "            # ... so long as the status meets this condition.\n",
    "                if status.has_key('retweeted_status')\n",
    "           ]\n",
    "\n",
    "sorted(retweets, reverse=True)[:5]"
   ]
  },
  {
   "cell_type": "markdown",
   "metadata": {},
   "source": [
    "### Looking up users who have retweeted a status"
   ]
  },
  {
   "cell_type": "code",
   "execution_count": 36,
   "metadata": {
    "collapsed": false
   },
   "outputs": [
    {
     "name": "stdout",
     "output_type": "stream",
     "text": [
      "[]\n"
     ]
    }
   ],
   "source": [
    "# Get the original tweet id for a tweet from its retweeted_status node \n",
    "# and insert it here in place of the sample value that is provided\n",
    "# from the text of the book\n",
    "\n",
    "_retweets = twitter_api.statuses.retweets(id=946912272013758464)\n",
    "print [r['user']['screen_name'] for r in _retweets]"
   ]
  },
  {
   "cell_type": "markdown",
   "metadata": {},
   "source": [
    "### Plotting frequencies of words"
   ]
  },
  {
   "cell_type": "code",
   "execution_count": 39,
   "metadata": {
    "collapsed": false
   },
   "outputs": [
    {
     "data": {
      "text/plain": [
       "<matplotlib.text.Text at 0x10e50f390>"
      ]
     },
     "execution_count": 39,
     "metadata": {},
     "output_type": "execute_result"
    },
    {
     "data": {
      "image/png": "[encoded data removed]",
      "text/plain": [
       "<matplotlib.figure.Figure at 0x10e465d90>"
      ]
     },
     "metadata": {},
     "output_type": "display_data"
    }
   ],
   "source": [
    "word_counts = sorted(Counter(words).values(), reverse=True)\n",
    "\n",
    "plt.loglog(word_counts)\n",
    "plt.ylabel(\"Freq\")\n",
    "plt.xlabel(\"Word Rank\")"
   ]
  },
  {
   "cell_type": "markdown",
   "metadata": {},
   "source": [
    "### Generating histograms of words, screen names, and hashtags"
   ]
  },
  {
   "cell_type": "code",
   "execution_count": 40,
   "metadata": {
    "collapsed": false
   },
   "outputs": [
    {
     "data": {
      "image/png": "[encoded data removed]",
      "text/plain": [
       "<matplotlib.figure.Figure at 0x1117cc790>"
      ]
     },
     "metadata": {},
     "output_type": "display_data"
    },
    {
     "data": {
      "image/png": "[encoded data removed]",
      "text/plain": [
       "<matplotlib.figure.Figure at 0x1117329d0>"
      ]
     },
     "metadata": {},
     "output_type": "display_data"
    },
    {
     "data": {
      "image/png": "[encoded data removed]",
      "text/plain": [
       "<matplotlib.figure.Figure at 0x111b03a10>"
      ]
     },
     "metadata": {},
     "output_type": "display_data"
    },
    {
     "data": {
      "text/plain": [
       "<matplotlib.figure.Figure at 0x111ba9110>"
      ]
     },
     "metadata": {},
     "output_type": "display_data"
    }
   ],
   "source": [
    "for label, data in (('Words', words), \n",
    "                    ('Screen Names', screen_names), \n",
    "                    ('Hashtags', hashtags)):\n",
    "\n",
    "    # Build a frequency map for each set of data\n",
    "    # and plot the values\n",
    "    c = Counter(data)\n",
    "    plt.hist(c.values())\n",
    "    \n",
    "    # Add a title and y-label ...\n",
    "    plt.title(label)\n",
    "    plt.ylabel(\"Number of items in bin\")\n",
    "    plt.xlabel(\"Bins (number of times an item appeared)\")\n",
    "    \n",
    "    # ... and display as a new figure\n",
    "    plt.figure()"
   ]
  },
  {
   "cell_type": "markdown",
   "metadata": {},
   "source": [
    "###  Generating a histogram of retweet counts¶"
   ]
  },
  {
   "cell_type": "code",
   "execution_count": 41,
   "metadata": {
    "collapsed": false
   },
   "outputs": [
    {
     "name": "stdout",
     "output_type": "stream",
     "text": [
      "[18, 18, 2, 2, 18, 18, 18, 18, 18, 18, 18, 1, 1, 18, 18, 16, 18, 18, 18, 18, 18, 18, 16, 1, 4, 1, 1, 2, 2, 1, 2, 2, 16, 16, 3, 16, 1, 3, 3, 16, 16, 16, 16, 16, 16, 16, 16, 4, 1, 1, 2, 2, 6, 1, 1, 6, 6, 6, 6, 6, 4, 4, 1, 2, 2, 1, 3, 3, 2, 1, 2, 2, 1]\n"
     ]
    },
    {
     "data": {
      "image/png": "[encoded data removed]",
      "text/plain": [
       "<matplotlib.figure.Figure at 0x111bb3e90>"
      ]
     },
     "metadata": {},
     "output_type": "display_data"
    }
   ],
   "source": [
    "# Using underscores while unpacking values in\n",
    "# a tuple is idiomatic for discarding them\n",
    "\n",
    "counts = [count for count, _, _ in retweets]\n",
    "\n",
    "plt.hist(counts)\n",
    "plt.title(\"Retweets\")\n",
    "plt.xlabel('Bins (number of times retweeted)')\n",
    "plt.ylabel('Number of tweets in bin')\n",
    "\n",
    "print counts"
   ]
  },
  {
   "cell_type": "code",
   "execution_count": 43,
   "metadata": {
    "collapsed": false
   },
   "outputs": [
    {
     "name": "stdout",
     "output_type": "stream",
     "text": [
      "[ 2.89037176  2.89037176  0.69314718  0.69314718  2.89037176  2.89037176\n",
      "  2.89037176  2.89037176  2.89037176  2.89037176  2.89037176  0.          0.\n",
      "  2.89037176  2.89037176  2.77258872  2.89037176  2.89037176  2.89037176\n",
      "  2.89037176  2.89037176  2.89037176  2.77258872  0.          1.38629436\n",
      "  0.          0.          0.69314718  0.69314718  0.          0.69314718\n",
      "  0.69314718  2.77258872  2.77258872  1.09861229  2.77258872  0.\n",
      "  1.09861229  1.09861229  2.77258872  2.77258872  2.77258872  2.77258872\n",
      "  2.77258872  2.77258872  2.77258872  2.77258872  1.38629436  0.          0.\n",
      "  0.69314718  0.69314718  1.79175947  0.          0.          1.79175947\n",
      "  1.79175947  1.79175947  1.79175947  1.79175947  1.38629436  1.38629436\n",
      "  0.          0.69314718  0.69314718  0.          1.09861229  1.09861229\n",
      "  0.69314718  0.          0.69314718  0.69314718  0.        ]\n"
     ]
    },
    {
     "data": {
      "image/png": "[encoded data removed]",
      "text/plain": [
       "<matplotlib.figure.Figure at 0x111fee210>"
      ]
     },
     "metadata": {},
     "output_type": "display_data"
    }
   ],
   "source": [
    "# Using underscores while unpacking values in\n",
    "# a tuple is idiomatic for discarding them\n",
    "\n",
    "counts = [count for count, _, _ in retweets]\n",
    "\n",
    "# Taking the log of the *data values* themselves can \n",
    "# often provide quick and valuable insight into the\n",
    "# underlying distribution as well. Try it back on\n",
    "# Example 13 and see if it helps.\n",
    "\n",
    "plt.hist(np.log(counts))\n",
    "plt.title(\"Retweets\")\n",
    "plt.xlabel('Log[Bins (number of times retweeted)]')\n",
    "plt.ylabel('Log[Number of tweets in bin]')\n",
    "\n",
    "print np.log(counts)"
   ]
  }
 ],
 "metadata": {
  "kernelspec": {
   "display_name": "Python 2",
   "language": "python",
   "name": "python2"
  },
  "language_info": {
   "codemirror_mode": {
    "name": "ipython",
    "version": 2
   },
   "file_extension": ".py",
   "mimetype": "text/x-python",
   "name": "python",
   "nbconvert_exporter": "python",
   "pygments_lexer": "ipython2",
   "version": "2.7.11"
  }
 },
 "nbformat": 4,
 "nbformat_minor": 0
}
